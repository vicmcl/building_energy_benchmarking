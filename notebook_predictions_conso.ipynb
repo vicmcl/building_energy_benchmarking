{
  "cells": [
    {
      "cell_type": "markdown",
      "source": [
        "# Import Data"
      ],
      "metadata": {
        "id": "OnhfJYcosZuy"
      }
    },
    {
      "cell_type": "code",
      "execution_count": 3,
      "metadata": {
        "id": "__1vOpHxdb_Z"
      },
      "outputs": [],
      "source": [
        "from sklearn.dummy import DummyRegressor\n",
        "from sklearn.ensemble import RandomForestRegressor\n",
        "from sklearn.linear_model import LinearRegression\n",
        "from sklearn.metrics import r2_score\n",
        "from sklearn.model_selection import train_test_split, GridSearchCV\n",
        "\n",
        "import matplotlib.pyplot as plt\n",
        "import numpy as np\n",
        "import pandas as pd\n",
        "import shap"
      ]
    },
    {
      "cell_type": "code",
      "execution_count": 5,
      "metadata": {
        "id": "dzNzEG1Gdb_a"
      },
      "outputs": [],
      "source": [
        "data = pd.read_json('data.json').dropna()\n",
        "data_with_energy_score = pd.read_json('data_with_energy_score.json').dropna()"
      ]
    },
    {
      "cell_type": "code",
      "execution_count": 6,
      "metadata": {
        "id": "X5r4wG65db_a",
        "outputId": "04d9abdd-c238-4074-cdca-815908431058",
        "colab": {
          "base_uri": "https://localhost:8080/"
        }
      },
      "outputs": [
        {
          "output_type": "stream",
          "name": "stdout",
          "text": [
            "<class 'pandas.core.frame.DataFrame'>\n",
            "Int64Index: 1649 entries, 0 to 3375\n",
            "Data columns (total 53 columns):\n",
            " #   Column                           Non-Null Count  Dtype  \n",
            "---  ------                           --------------  -----  \n",
            " 0   PropUseTypes1_12                 1649 non-null   int64  \n",
            " 1   PropUseTypes2_center             1649 non-null   int64  \n",
            " 2   PropUseTypes3_data               1649 non-null   int64  \n",
            " 3   PropUseTypes4_distribution       1649 non-null   int64  \n",
            " 4   PropUseTypes5_facility           1649 non-null   int64  \n",
            " 5   PropUseTypes6_grocery            1649 non-null   int64  \n",
            " 6   PropUseTypes7_hotel              1649 non-null   int64  \n",
            " 7   PropUseTypes8_medical            1649 non-null   int64  \n",
            " 8   PropUseTypes9_non                1649 non-null   int64  \n",
            " 9   PropUseTypes10_office            1649 non-null   int64  \n",
            " 10  PropUseTypes11_parking           1649 non-null   int64  \n",
            " 11  PropUseTypes12_refrigerated      1649 non-null   int64  \n",
            " 12  PropUseTypes13_restaurant        1649 non-null   int64  \n",
            " 13  PropUseTypes14_retail            1649 non-null   int64  \n",
            " 14  PropUseTypes15_school            1649 non-null   int64  \n",
            " 15  PropUseTypes16_services          1649 non-null   int64  \n",
            " 16  PropUseTypes17_store             1649 non-null   int64  \n",
            " 17  PropUseTypes18_supermarket       1649 non-null   int64  \n",
            " 18  PropUseTypes19_warehouse         1649 non-null   int64  \n",
            " 19  PropUseTypes20_worship           1649 non-null   int64  \n",
            " 20  PropertyName1_ave                1649 non-null   int64  \n",
            " 21  PropertyName2_bldg               1649 non-null   int64  \n",
            " 22  PropertyName3_building           1649 non-null   int64  \n",
            " 23  PropertyName4_center             1649 non-null   int64  \n",
            " 24  PropertyName5_church             1649 non-null   int64  \n",
            " 25  PropertyName6_elementary         1649 non-null   int64  \n",
            " 26  PropertyName7_llc                1649 non-null   int64  \n",
            " 27  PropertyName8_park               1649 non-null   int64  \n",
            " 28  PropertyName9_seattle            1649 non-null   int64  \n",
            " 29  PropertyName10_west              1649 non-null   int64  \n",
            " 30  SecondLargestPropertyUseTypeGFA  1649 non-null   float64\n",
            " 31  Neighborhood1_anne               1649 non-null   int64  \n",
            " 32  Neighborhood2_downtown           1649 non-null   int64  \n",
            " 33  Neighborhood3_duwamish           1649 non-null   int64  \n",
            " 34  Neighborhood4_east               1649 non-null   int64  \n",
            " 35  Neighborhood5_greater            1649 non-null   int64  \n",
            " 36  Neighborhood6_lake               1649 non-null   int64  \n",
            " 37  Neighborhood7_magnolia           1649 non-null   int64  \n",
            " 38  Neighborhood8_northeast          1649 non-null   int64  \n",
            " 39  Neighborhood9_queen              1649 non-null   int64  \n",
            " 40  Neighborhood10_union             1649 non-null   int64  \n",
            " 41  YearBuilt                        1649 non-null   float64\n",
            " 42  SiteEnergyUse(kBtu)              1649 non-null   float64\n",
            " 43  TotalGHGEmissions                1649 non-null   float64\n",
            " 44  electricity_percentage           1649 non-null   float64\n",
            " 45  log_gfa_buildings                1649 non-null   float64\n",
            " 46  log_gfa_parking                  1649 non-null   float64\n",
            " 47  log_number_of_buildings          1649 non-null   float64\n",
            " 48  log_number_of_floors             1649 non-null   float64\n",
            " 49  avenue                           1649 non-null   bool   \n",
            " 50  other_address                    1649 non-null   bool   \n",
            " 51  street                           1649 non-null   bool   \n",
            " 52  way                              1649 non-null   bool   \n",
            "dtypes: bool(4), float64(9), int64(40)\n",
            "memory usage: 650.6 KB\n"
          ]
        }
      ],
      "source": [
        "data.info()"
      ]
    },
    {
      "cell_type": "markdown",
      "source": [
        "# Train Test Split"
      ],
      "metadata": {
        "id": "Ex54YPUHsVRV"
      }
    },
    {
      "cell_type": "code",
      "execution_count": 7,
      "metadata": {
        "id": "zIQHNcbddb_b"
      },
      "outputs": [],
      "source": [
        "X = data.drop(['TotalGHGEmissions', 'SiteEnergyUse(kBtu)'], axis=1)\n",
        "y = data['SiteEnergyUse(kBtu)']"
      ]
    },
    {
      "cell_type": "code",
      "execution_count": 8,
      "metadata": {
        "id": "MS7Gg6tKdb_b"
      },
      "outputs": [],
      "source": [
        "X_train, X_test, y_train, y_test = train_test_split(\n",
        "    X, y, test_size=0.2, random_state=42\n",
        ")"
      ]
    },
    {
      "cell_type": "code",
      "source": [
        "y_train = np.log(y_train)\n",
        "y_test = np.log(y_test)"
      ],
      "metadata": {
        "id": "_6cv9JuUFdms"
      },
      "execution_count": 9,
      "outputs": []
    },
    {
      "cell_type": "markdown",
      "source": [
        "# Dummy Regressor"
      ],
      "metadata": {
        "id": "17KE0nXssO6r"
      }
    },
    {
      "cell_type": "code",
      "source": [
        "dummy = DummyRegressor(strategy='mean')\n",
        "\n",
        "dummy.fit(X_train, y_train)\n",
        "y_pred_dummy = dummy.predict(X_test)\n",
        "r2_dummy = r2_score(y_test, y_pred_dummy)\n",
        "\n",
        "print(f'Dummy Regressor - Best R^2 Score : {r2_dummy:.2f}')"
      ],
      "metadata": {
        "colab": {
          "base_uri": "https://localhost:8080/"
        },
        "id": "xK3k_DGuIWvH",
        "outputId": "0b541cbb-f4a0-4d60-b4c1-f9c93cb2d319"
      },
      "execution_count": 10,
      "outputs": [
        {
          "output_type": "stream",
          "name": "stdout",
          "text": [
            "Dummy Regressor - Best R^2 Score : -0.00\n"
          ]
        }
      ]
    },
    {
      "cell_type": "markdown",
      "source": [
        "# Linear Regressor"
      ],
      "metadata": {
        "id": "J447WF9tsKgM"
      }
    },
    {
      "cell_type": "markdown",
      "source": [
        "## Fitting and Predictions"
      ],
      "metadata": {
        "id": "yITW9ZttV8yr"
      }
    },
    {
      "cell_type": "code",
      "execution_count": 11,
      "metadata": {
        "id": "o3zgKKgFdb_b"
      },
      "outputs": [],
      "source": [
        "lin_reg = LinearRegression()\n",
        "\n",
        "param_grid_lr = {\n",
        "    'fit_intercept': [True, False],\n",
        "}\n",
        "\n",
        "grid_search_lr = GridSearchCV(\n",
        "    lin_reg,\n",
        "    param_grid_lr,\n",
        "    scoring='r2',\n",
        "    return_train_score=True,\n",
        "    n_jobs=-1\n",
        ")"
      ]
    },
    {
      "cell_type": "code",
      "source": [
        "%%timeit\n",
        "grid_search_lr.fit(X_train, y_train)"
      ],
      "metadata": {
        "id": "xWjZgn6Pi4Gz",
        "outputId": "0e3a613e-272e-49d3-f006-292dc3da8c8b",
        "colab": {
          "base_uri": "https://localhost:8080/"
        }
      },
      "execution_count": 12,
      "outputs": [
        {
          "output_type": "stream",
          "name": "stdout",
          "text": [
            "122 ms ± 25 ms per loop (mean ± std. dev. of 7 runs, 1 loop each)\n"
          ]
        }
      ]
    },
    {
      "cell_type": "markdown",
      "source": [
        "### Results Cross Validation"
      ],
      "metadata": {
        "id": "4ZyZ_C-EA1jr"
      }
    },
    {
      "cell_type": "code",
      "source": [
        "# Get mean test scores from cross validation\n",
        "rslt = grid_search_lr.cv_results_.get(\"mean_test_score\")\n",
        "\n",
        "# Sort the best estimators based on these mean scores\n",
        "ranked_indices = np.argsort(rslt)[::-1]\n",
        "\n",
        "for i, (param, score) in enumerate(zip(\n",
        "    np.array(grid_search_lr.cv_results_.get(\"params\"))[ranked_indices],\n",
        "    np.round(rslt[ranked_indices], 5)\n",
        ")):\n",
        "    print(f\"Estimator {i + 1}  - \", *[f\"{key}={val} \" for key, val in param.items()], f\"-->  r2={round(score, 5)}\")"
      ],
      "metadata": {
        "colab": {
          "base_uri": "https://localhost:8080/"
        },
        "id": "M8qKlvIz1voT",
        "outputId": "ec34c35b-3fda-4eff-af83-92e714252ad5"
      },
      "execution_count": 13,
      "outputs": [
        {
          "output_type": "stream",
          "name": "stdout",
          "text": [
            "Estimator 1  -  fit_intercept=False  -->  r2=0.70319\n",
            "Estimator 2  -  fit_intercept=True  -->  r2=0.7023\n"
          ]
        }
      ]
    },
    {
      "cell_type": "code",
      "source": [
        "best_lr_model = grid_search_lr.best_estimator_\n",
        "y_pred_lr = best_lr_model.predict(X_test)\n",
        "r2_lr = r2_score(y_test, y_pred_lr)\n",
        "\n",
        "print(f'Linear Regressor - Best R^2 Score : {r2_lr:.2f}')"
      ],
      "metadata": {
        "id": "wFrx9nDMi2Y1",
        "outputId": "cda9b011-781b-4c90-cfb3-a5682dafac13",
        "colab": {
          "base_uri": "https://localhost:8080/"
        }
      },
      "execution_count": 14,
      "outputs": [
        {
          "output_type": "stream",
          "name": "stdout",
          "text": [
            "Linear Regressor - Best R^2 Score : 0.69\n"
          ]
        }
      ]
    },
    {
      "cell_type": "markdown",
      "source": [
        "# Random Forest Regressor"
      ],
      "metadata": {
        "id": "26rIhYfpsF_4"
      }
    },
    {
      "cell_type": "code",
      "execution_count": 15,
      "metadata": {
        "id": "cbjI79Hddb_b"
      },
      "outputs": [],
      "source": [
        "rf_reg = RandomForestRegressor(random_state=42)\n",
        "\n",
        "param_grid_rf = [{\n",
        "    'n_estimators': [10, 20, 50, 100, 200],\n",
        "    'max_depth': [None, 2, 5, 10],\n",
        "    'min_samples_split': [2, 5, 10],\n",
        "}]\n",
        "\n",
        "grid_search_rf = GridSearchCV(\n",
        "    rf_reg,\n",
        "    param_grid_rf,\n",
        "    scoring='r2',\n",
        "    return_train_score=True,\n",
        "    n_jobs=-1\n",
        ")"
      ]
    },
    {
      "cell_type": "code",
      "source": [
        "%%timeit\n",
        "grid_search_rf.fit(X_train, y_train)"
      ],
      "metadata": {
        "id": "9CtaLZHWjNRf",
        "outputId": "1afab4ee-2f9b-4f50-890f-4ccc930219d0",
        "colab": {
          "base_uri": "https://localhost:8080/"
        }
      },
      "execution_count": 16,
      "outputs": [
        {
          "output_type": "stream",
          "name": "stdout",
          "text": [
            "24.4 s ± 333 ms per loop (mean ± std. dev. of 7 runs, 1 loop each)\n"
          ]
        }
      ]
    },
    {
      "cell_type": "markdown",
      "source": [
        "### Results Cross Validation"
      ],
      "metadata": {
        "id": "fwOWxSfbA213"
      }
    },
    {
      "cell_type": "code",
      "source": [
        "# Get mean test scores from cross validation\n",
        "rslt = grid_search_rf.cv_results_.get(\"mean_test_score\")\n",
        "\n",
        "# Sort the best estimators based on these mean scores\n",
        "rank = 3\n",
        "ranked_indices = np.argsort(rslt)[-rank:][::-1]\n",
        "\n",
        "print(f\"Top {rank} estimators:\")\n",
        "\n",
        "for i, (param, score) in enumerate(zip(\n",
        "    np.array(grid_search_rf.cv_results_.get(\"params\"))[ranked_indices],\n",
        "    np.round(rslt[ranked_indices], 5)\n",
        ")):\n",
        "    print(f\"Estimator {i + 1}  - \", *[f\"{key}={val} \" for key, val in param.items()], f\"-->  r2={round(score, 5)}\")"
      ],
      "metadata": {
        "colab": {
          "base_uri": "https://localhost:8080/"
        },
        "id": "4_p3AwM-124K",
        "outputId": "735cb2a9-b376-4ef2-d82e-963a98fee03f"
      },
      "execution_count": 17,
      "outputs": [
        {
          "output_type": "stream",
          "name": "stdout",
          "text": [
            "Top 3 estimators:\n",
            "Estimator 1  -  max_depth=None  min_samples_split=2  n_estimators=200  -->  r2=0.7079\n",
            "Estimator 2  -  max_depth=None  min_samples_split=2  n_estimators=100  -->  r2=0.7079\n",
            "Estimator 3  -  max_depth=None  min_samples_split=5  n_estimators=200  -->  r2=0.70718\n"
          ]
        }
      ]
    },
    {
      "cell_type": "code",
      "source": [
        "best_rf_model = grid_search_rf.best_estimator_\n",
        "y_pred_rf = best_rf_model.predict(X_test)\n",
        "r2_rf = r2_score(y_test, y_pred_rf)\n",
        "\n",
        "print(f'Random Forest Regressor - Best R^2 Score : {r2_rf:.5f}')"
      ],
      "metadata": {
        "id": "citqe5o7jMYQ",
        "outputId": "89ba1137-2062-45d9-df87-d15e5aa2b8d9",
        "colab": {
          "base_uri": "https://localhost:8080/"
        }
      },
      "execution_count": 18,
      "outputs": [
        {
          "output_type": "stream",
          "name": "stdout",
          "text": [
            "Random Forest Regressor - Best R^2 Score : 0.70190\n"
          ]
        }
      ]
    },
    {
      "cell_type": "markdown",
      "source": [
        "# With ENERGY STAR Score"
      ],
      "metadata": {
        "id": "kUlM-sNtllo1"
      }
    },
    {
      "cell_type": "markdown",
      "source": [
        "## Train Test Split"
      ],
      "metadata": {
        "id": "NVKq2Tano73M"
      }
    },
    {
      "cell_type": "code",
      "source": [
        "X_ESS = data_with_energy_score.drop(['TotalGHGEmissions', 'SiteEnergyUse(kBtu)'], axis=1)\n",
        "y_ESS = data_with_energy_score['SiteEnergyUse(kBtu)']\n",
        "\n",
        "X_train_ESS, X_test_ESS, y_train_ESS, y_test_ESS = train_test_split(\n",
        "    X_ESS, y_ESS, test_size=0.2, random_state=42\n",
        ")"
      ],
      "metadata": {
        "id": "uR-EECabl7hk"
      },
      "execution_count": 19,
      "outputs": []
    },
    {
      "cell_type": "markdown",
      "source": [
        "## Random Forest Regressor"
      ],
      "metadata": {
        "id": "bZIrf1j6lwok"
      }
    },
    {
      "cell_type": "code",
      "source": [
        "rf_reg_ESS = RandomForestRegressor(random_state=42)\n",
        "\n",
        "grid_search_rf_ESS = GridSearchCV(\n",
        "    rf_reg_ESS,\n",
        "    param_grid_rf,\n",
        "    scoring='r2',\n",
        "    return_train_score=True,\n",
        "    n_jobs=-1\n",
        ")\n",
        "\n",
        "grid_search_rf_ESS.fit(X_train_ESS, y_train_ESS)"
      ],
      "metadata": {
        "id": "ncaQ9zBvpJXj",
        "outputId": "93056216-bc39-4c32-f676-2fe7724bba54",
        "colab": {
          "base_uri": "https://localhost:8080/",
          "height": 117
        }
      },
      "execution_count": 20,
      "outputs": [
        {
          "output_type": "execute_result",
          "data": {
            "text/plain": [
              "GridSearchCV(estimator=RandomForestRegressor(random_state=42), n_jobs=-1,\n",
              "             param_grid=[{'max_depth': [None, 2, 5, 10],\n",
              "                          'min_samples_split': [2, 5, 10],\n",
              "                          'n_estimators': [10, 20, 50, 100, 200]}],\n",
              "             return_train_score=True, scoring='r2')"
            ],
            "text/html": [
              "<style>#sk-container-id-1 {color: black;background-color: white;}#sk-container-id-1 pre{padding: 0;}#sk-container-id-1 div.sk-toggleable {background-color: white;}#sk-container-id-1 label.sk-toggleable__label {cursor: pointer;display: block;width: 100%;margin-bottom: 0;padding: 0.3em;box-sizing: border-box;text-align: center;}#sk-container-id-1 label.sk-toggleable__label-arrow:before {content: \"▸\";float: left;margin-right: 0.25em;color: #696969;}#sk-container-id-1 label.sk-toggleable__label-arrow:hover:before {color: black;}#sk-container-id-1 div.sk-estimator:hover label.sk-toggleable__label-arrow:before {color: black;}#sk-container-id-1 div.sk-toggleable__content {max-height: 0;max-width: 0;overflow: hidden;text-align: left;background-color: #f0f8ff;}#sk-container-id-1 div.sk-toggleable__content pre {margin: 0.2em;color: black;border-radius: 0.25em;background-color: #f0f8ff;}#sk-container-id-1 input.sk-toggleable__control:checked~div.sk-toggleable__content {max-height: 200px;max-width: 100%;overflow: auto;}#sk-container-id-1 input.sk-toggleable__control:checked~label.sk-toggleable__label-arrow:before {content: \"▾\";}#sk-container-id-1 div.sk-estimator input.sk-toggleable__control:checked~label.sk-toggleable__label {background-color: #d4ebff;}#sk-container-id-1 div.sk-label input.sk-toggleable__control:checked~label.sk-toggleable__label {background-color: #d4ebff;}#sk-container-id-1 input.sk-hidden--visually {border: 0;clip: rect(1px 1px 1px 1px);clip: rect(1px, 1px, 1px, 1px);height: 1px;margin: -1px;overflow: hidden;padding: 0;position: absolute;width: 1px;}#sk-container-id-1 div.sk-estimator {font-family: monospace;background-color: #f0f8ff;border: 1px dotted black;border-radius: 0.25em;box-sizing: border-box;margin-bottom: 0.5em;}#sk-container-id-1 div.sk-estimator:hover {background-color: #d4ebff;}#sk-container-id-1 div.sk-parallel-item::after {content: \"\";width: 100%;border-bottom: 1px solid gray;flex-grow: 1;}#sk-container-id-1 div.sk-label:hover label.sk-toggleable__label {background-color: #d4ebff;}#sk-container-id-1 div.sk-serial::before {content: \"\";position: absolute;border-left: 1px solid gray;box-sizing: border-box;top: 0;bottom: 0;left: 50%;z-index: 0;}#sk-container-id-1 div.sk-serial {display: flex;flex-direction: column;align-items: center;background-color: white;padding-right: 0.2em;padding-left: 0.2em;position: relative;}#sk-container-id-1 div.sk-item {position: relative;z-index: 1;}#sk-container-id-1 div.sk-parallel {display: flex;align-items: stretch;justify-content: center;background-color: white;position: relative;}#sk-container-id-1 div.sk-item::before, #sk-container-id-1 div.sk-parallel-item::before {content: \"\";position: absolute;border-left: 1px solid gray;box-sizing: border-box;top: 0;bottom: 0;left: 50%;z-index: -1;}#sk-container-id-1 div.sk-parallel-item {display: flex;flex-direction: column;z-index: 1;position: relative;background-color: white;}#sk-container-id-1 div.sk-parallel-item:first-child::after {align-self: flex-end;width: 50%;}#sk-container-id-1 div.sk-parallel-item:last-child::after {align-self: flex-start;width: 50%;}#sk-container-id-1 div.sk-parallel-item:only-child::after {width: 0;}#sk-container-id-1 div.sk-dashed-wrapped {border: 1px dashed gray;margin: 0 0.4em 0.5em 0.4em;box-sizing: border-box;padding-bottom: 0.4em;background-color: white;}#sk-container-id-1 div.sk-label label {font-family: monospace;font-weight: bold;display: inline-block;line-height: 1.2em;}#sk-container-id-1 div.sk-label-container {text-align: center;}#sk-container-id-1 div.sk-container {/* jupyter's `normalize.less` sets `[hidden] { display: none; }` but bootstrap.min.css set `[hidden] { display: none !important; }` so we also need the `!important` here to be able to override the default hidden behavior on the sphinx rendered scikit-learn.org. See: https://github.com/scikit-learn/scikit-learn/issues/21755 */display: inline-block !important;position: relative;}#sk-container-id-1 div.sk-text-repr-fallback {display: none;}</style><div id=\"sk-container-id-1\" class=\"sk-top-container\"><div class=\"sk-text-repr-fallback\"><pre>GridSearchCV(estimator=RandomForestRegressor(random_state=42), n_jobs=-1,\n",
              "             param_grid=[{&#x27;max_depth&#x27;: [None, 2, 5, 10],\n",
              "                          &#x27;min_samples_split&#x27;: [2, 5, 10],\n",
              "                          &#x27;n_estimators&#x27;: [10, 20, 50, 100, 200]}],\n",
              "             return_train_score=True, scoring=&#x27;r2&#x27;)</pre><b>In a Jupyter environment, please rerun this cell to show the HTML representation or trust the notebook. <br />On GitHub, the HTML representation is unable to render, please try loading this page with nbviewer.org.</b></div><div class=\"sk-container\" hidden><div class=\"sk-item sk-dashed-wrapped\"><div class=\"sk-label-container\"><div class=\"sk-label sk-toggleable\"><input class=\"sk-toggleable__control sk-hidden--visually\" id=\"sk-estimator-id-1\" type=\"checkbox\" ><label for=\"sk-estimator-id-1\" class=\"sk-toggleable__label sk-toggleable__label-arrow\">GridSearchCV</label><div class=\"sk-toggleable__content\"><pre>GridSearchCV(estimator=RandomForestRegressor(random_state=42), n_jobs=-1,\n",
              "             param_grid=[{&#x27;max_depth&#x27;: [None, 2, 5, 10],\n",
              "                          &#x27;min_samples_split&#x27;: [2, 5, 10],\n",
              "                          &#x27;n_estimators&#x27;: [10, 20, 50, 100, 200]}],\n",
              "             return_train_score=True, scoring=&#x27;r2&#x27;)</pre></div></div></div><div class=\"sk-parallel\"><div class=\"sk-parallel-item\"><div class=\"sk-item\"><div class=\"sk-label-container\"><div class=\"sk-label sk-toggleable\"><input class=\"sk-toggleable__control sk-hidden--visually\" id=\"sk-estimator-id-2\" type=\"checkbox\" ><label for=\"sk-estimator-id-2\" class=\"sk-toggleable__label sk-toggleable__label-arrow\">estimator: RandomForestRegressor</label><div class=\"sk-toggleable__content\"><pre>RandomForestRegressor(random_state=42)</pre></div></div></div><div class=\"sk-serial\"><div class=\"sk-item\"><div class=\"sk-estimator sk-toggleable\"><input class=\"sk-toggleable__control sk-hidden--visually\" id=\"sk-estimator-id-3\" type=\"checkbox\" ><label for=\"sk-estimator-id-3\" class=\"sk-toggleable__label sk-toggleable__label-arrow\">RandomForestRegressor</label><div class=\"sk-toggleable__content\"><pre>RandomForestRegressor(random_state=42)</pre></div></div></div></div></div></div></div></div></div></div>"
            ]
          },
          "metadata": {},
          "execution_count": 20
        }
      ]
    },
    {
      "cell_type": "markdown",
      "source": [
        "### Results Cross Validation"
      ],
      "metadata": {
        "id": "2GxOiRcEA4Yg"
      }
    },
    {
      "cell_type": "code",
      "source": [
        "# Get mean test scores from cross validation\n",
        "rslt = grid_search_rf_ESS.cv_results_.get(\"mean_test_score\")\n",
        "\n",
        "# Sort the best estimators based on these mean scores\n",
        "rank = 3\n",
        "ranked_indices = np.argsort(rslt)[-rank:][::-1]\n",
        "\n",
        "print(f\"Top {rank} estimators:\")\n",
        "\n",
        "for i, (param, score) in enumerate(zip(\n",
        "    np.array(grid_search_rf.cv_results_.get(\"params\"))[ranked_indices],\n",
        "    np.round(rslt[ranked_indices], 5)\n",
        ")):\n",
        "    print(f\"Estimator {i + 1}  - \", *[f\"{key}={val} \" for key, val in param.items()], f\"-->  r2={score:.5f}\")"
      ],
      "metadata": {
        "colab": {
          "base_uri": "https://localhost:8080/"
        },
        "id": "FKJdimr99Ts7",
        "outputId": "b15e5cc4-b055-4304-c46b-669d5a798f87"
      },
      "execution_count": 21,
      "outputs": [
        {
          "output_type": "stream",
          "name": "stdout",
          "text": [
            "Top 3 estimators:\n",
            "Estimator 1  -  max_depth=None  min_samples_split=2  n_estimators=200  -->  r2=0.62448\n",
            "Estimator 2  -  max_depth=None  min_samples_split=5  n_estimators=200  -->  r2=0.61515\n",
            "Estimator 3  -  max_depth=None  min_samples_split=10  n_estimators=200  -->  r2=0.61370\n"
          ]
        }
      ]
    },
    {
      "cell_type": "code",
      "source": [
        "best_rf_model_ESS = grid_search_rf_ESS.best_estimator_\n",
        "y_pred_rf_ESS = best_rf_model_ESS.predict(X_test_ESS)\n",
        "r2_rf = r2_score(y_test_ESS, y_pred_rf_ESS)\n",
        "\n",
        "print(f'Random Forest Regressor with ENERGY STAR Score - Best R^2 Score : {r2_rf:.2f}')"
      ],
      "metadata": {
        "id": "Y8rTPqTCpSwD",
        "outputId": "a543c834-52fd-4240-c262-3494d8154f75",
        "colab": {
          "base_uri": "https://localhost:8080/"
        }
      },
      "execution_count": 22,
      "outputs": [
        {
          "output_type": "stream",
          "name": "stdout",
          "text": [
            "Random Forest Regressor with ENERGY STAR Score - Best R^2 Score : 0.74\n"
          ]
        }
      ]
    }
  ],
  "metadata": {
    "kernelspec": {
      "display_name": "Python 3",
      "name": "python3"
    },
    "language_info": {
      "codemirror_mode": {
        "name": "ipython",
        "version": 3
      },
      "file_extension": ".py",
      "mimetype": "text/x-python",
      "name": "python",
      "nbconvert_exporter": "python",
      "pygments_lexer": "ipython3",
      "version": "3.11.5"
    },
    "colab": {
      "provenance": [],
      "machine_shape": "hm"
    }
  },
  "nbformat": 4,
  "nbformat_minor": 0
}